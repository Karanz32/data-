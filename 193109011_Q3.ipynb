{
  "nbformat": 4,
  "nbformat_minor": 0,
  "metadata": {
    "colab": {
      "name": "193109011_Q3.ipynb",
      "provenance": []
    },
    "kernelspec": {
      "name": "python3",
      "display_name": "Python 3"
    }
  },
  "cells": [
    {
      "cell_type": "code",
      "metadata": {
        "id": "aNBQtpzcZ0Rd"
      },
      "source": [
        "import pandas as pd\r\n",
        "import numpy as np\r\n",
        "import matplotlib.pyplot as plt\r\n",
        "data = pd.read_csv('193109011@iitb.ac.in_Q3.csv')\r\n",
        "d=data.values"
      ],
      "execution_count": 7,
      "outputs": []
    },
    {
      "cell_type": "code",
      "metadata": {
        "id": "XfiRgidbaHlW"
      },
      "source": [
        "from sklearn.preprocessing import StandardScaler\r\n",
        "sc = StandardScaler()\r\n",
        "sc.fit_transform(d)\r\n",
        "from sklearn.model_selection import train_test_split\r\n",
        "d_train1, d_test1 = train_test_split(d,test_size = 0.3, random_state = 0)"
      ],
      "execution_count": 11,
      "outputs": []
    },
    {
      "cell_type": "code",
      "metadata": {
        "id": "4Y5XH14Gbng-"
      },
      "source": [
        "from sklearn.decomposition import PCA\r\n",
        "index=[]\r\n",
        "var=[]\r\n",
        "for i in range(1,7,1):\r\n",
        "  pca = PCA(n_components = i)\r\n",
        "  d_train = pca.fit_transform(d_train1)\r\n",
        "  explained_variance = pca.explained_variance_ratio_\r\n",
        "  var.append(np.sum(explained_variance))\r\n",
        "  index.append(i)"
      ],
      "execution_count": 13,
      "outputs": []
    },
    {
      "cell_type": "code",
      "metadata": {
        "colab": {
          "base_uri": "https://localhost:8080/",
          "height": 295
        },
        "id": "kNiwH5lEbqYU",
        "outputId": "4d500693-cc95-4732-c41f-1f3ab617ad07"
      },
      "source": [
        "plt.scatter(index,var, color='blue')\r\n",
        "plt.plot(index,np.array(var), 'r')\r\n",
        "plt.title('Variance vs PCA')\r\n",
        "plt.ylabel('Variance')\r\n",
        "plt.xlabel('PCA components')\r\n",
        "plt.show()"
      ],
      "execution_count": 18,
      "outputs": [
        {
          "output_type": "display_data",
          "data": {
            "image/png": "[encoded data removed]",
            "text/plain": [
              "<Figure size 432x288 with 1 Axes>"
            ]
          },
          "metadata": {
            "tags": [],
            "needs_background": "light"
          }
        }
      ]
    },
    {
      "cell_type": "code",
      "metadata": {
        "colab": {
          "base_uri": "https://localhost:8080/"
        },
        "id": "MFXKZW0QcTFs",
        "outputId": "8efc38e5-53bd-4604-8c7c-70d4e630daa5"
      },
      "source": [
        "import numpy as np\r\n",
        "import sklearn.datasets, sklearn.decomposition\r\n",
        "\r\n",
        "mu = np.mean(d_train, axis=0)\r\n",
        "pca = sklearn.decomposition.PCA()\r\n",
        "pca.fit(d_train)\r\n",
        "nComp=5\r\n",
        "dh = np.dot(pca.transform(d_train)[:,:nComp], pca.components_[:nComp,:])\r\n",
        "dh += mu\r\n",
        "print(\"For dimensionality reduction with principal components\",i)\r\n",
        "print(\"Original values\")\r\n",
        "print(d_train[0,],d_train[10,],d_train[100,])\r\n",
        "print(\"From PCA values\")\r\n",
        "print(dh[0,],dh[10,],dh[100,])\r\n",
        "print(\"Difference\")\r\n",
        "print(d_train[0,]-dh[0,],d_train[10,]-dh[10,],d_train[100,]-dh[100,])"
      ],
      "execution_count": 20,
      "outputs": [
        {
          "output_type": "stream",
          "text": [
            "For dimensionality reduction with principal components 6\n",
            "Original values\n",
            "[2793.4119433  1654.89980445 1851.31764075 1053.10758699  305.60843757\n",
            "  856.97697542] [  -56.26523226 -1347.97657868  -817.24279776 -1115.89368401\n",
            "  1327.08137773   384.3947545 ] [ 2489.97002436  1126.78614756    93.87900026 -1064.32003827\n",
            "   575.90921629   -17.61442994]\n",
            "[ 2.79341194e+03  1.65489980e+03  1.85131764e+03  1.05310759e+03\n",
            "  3.05608438e+02 -2.83645358e-14] [-5.62652323e+01 -1.34797658e+03 -8.17242798e+02 -1.11589368e+03\n",
            "  1.32708138e+03 -9.56068279e-13] [ 2.48997002e+03  1.12678615e+03  9.38790003e+01 -1.06432004e+03\n",
            "  5.75909216e+02 -1.21387394e-12]\n",
            "[ 0.00000000e+00  1.59161573e-12  6.82121026e-13 -6.82121026e-13\n",
            "  5.11590770e-13  8.56976975e+02] [ 0.00000000e+00 -2.27373675e-13 -5.68434189e-13 -2.27373675e-13\n",
            "  2.27373675e-13  3.84394754e+02] [ 0.00000000e+00  4.54747351e-13 -1.56319402e-13  9.09494702e-13\n",
            "  5.68434189e-13 -1.76144299e+01]\n"
          ],
          "name": "stdout"
        }
      ]
    }
  ]
}