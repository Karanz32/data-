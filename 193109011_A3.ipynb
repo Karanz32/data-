{
  "nbformat": 4,
  "nbformat_minor": 0,
  "metadata": {
    "colab": {
      "name": "193109011_A3.ipynb",
      "provenance": [],
      "collapsed_sections": []
    },
    "kernelspec": {
      "name": "python3",
      "display_name": "Python 3"
    }
  },
  "cells": [
    {
      "cell_type": "code",
      "metadata": {
        "id": "IgGSXO6sV729",
        "colab_type": "code",
        "colab": {}
      },
      "source": [
        "import numpy as np\n",
        "import matplotlib.pyplot as plt\n",
        "import pandas as pd\n",
        "import scipy as sc"
      ],
      "execution_count": 18,
      "outputs": []
    },
    {
      "cell_type": "code",
      "metadata": {
        "id": "-TX-XOGXWa7L",
        "colab_type": "code",
        "colab": {
          "base_uri": "https://localhost:8080/",
          "height": 34
        },
        "outputId": "839dec8c-bba1-46c9-c98a-6cca42eec12c"
      },
      "source": [
        "file=\"https://raw.githubusercontent.com/Karanz32/data-/master/rainfall%20in%20india%201901-2015.csv\"\n",
        "csv=pd.read_csv(file)\n",
        "df=pd.DataFrame(csv)\n",
        "df_data=pd.DataFrame(df.iloc[:115,2:15])\n",
        "X=np.array(df.iloc[[3],2:15])                                       # Selecting random Row (3rd) of the data set and create 1D array consisting of numbers.\n",
        "Y=np.array(df.iloc[[7],2:15])                                       # Selecting random Row (4th) of the data set and create 1D array consisting of numbers.\n",
        "type(X)"
      ],
      "execution_count": 70,
      "outputs": [
        {
          "output_type": "execute_result",
          "data": {
            "text/plain": [
              "numpy.ndarray"
            ]
          },
          "metadata": {
            "tags": []
          },
          "execution_count": 70
        }
      ]
    },
    {
      "cell_type": "code",
      "metadata": {
        "id": "mRaXDslB1TFN",
        "colab_type": "code",
        "colab": {
          "base_uri": "https://localhost:8080/",
          "height": 34
        },
        "outputId": "389d9ba2-3279-4da2-c6af-9bcd9e784b84"
      },
      "source": [
        "# Euclidean Norm.\n",
        "def EN(X,Y):\n",
        "  n=0\n",
        "  Z=0\n",
        "  while n<=X.size-1: # n is index starting from 0\n",
        "    diff=(Y[0][n]-X[0][n])**2 # represents (b-a)^2\n",
        "    Z=Z+diff                 # Sums up all the values of square(Z)\n",
        "    n=n+1\n",
        "  Z=np.power(np.sum(Z),0.5)   # Takes the square root of the sum of square(Z)\n",
        "  simmi=1/(1+Z)\n",
        "  return Z,simmi\n",
        "EN=EN(X,Y)\n",
        "EN"
      ],
      "execution_count": 37,
      "outputs": [
        {
          "output_type": "execute_result",
          "data": {
            "text/plain": [
              "(932.841101152817, 0.0010708459916419512)"
            ]
          },
          "metadata": {
            "tags": []
          },
          "execution_count": 37
        }
      ]
    },
    {
      "cell_type": "code",
      "metadata": {
        "id": "3YjdKiJEGZz5",
        "colab_type": "code",
        "colab": {
          "base_uri": "https://localhost:8080/",
          "height": 34
        },
        "outputId": "0852de85-92ae-4f38-f192-7bd7da173456"
      },
      "source": [
        "# Hilbert Schmidt norm.\n",
        "def HSN(X,Y):\n",
        "  A=np.ones([(X).size,(X).size],dtype=int)\n",
        "  Z=Y-X\n",
        "  Z_transpose=np.transpose(Z)\n",
        "  Z_A_Z_transpose=np.linalg.multi_dot([Z,A,Z_transpose])\n",
        "  HSN=np.power(Z_A_Z_transpose,0.5)\n",
        "  simmi=1/(1+HSN)\n",
        "  return HSN,simmi\n",
        "HSN=HSN(X,Y)\n",
        "HSN\n"
      ],
      "execution_count": 41,
      "outputs": [
        {
          "output_type": "execute_result",
          "data": {
            "text/plain": [
              "tuple"
            ]
          },
          "metadata": {
            "tags": []
          },
          "execution_count": 41
        }
      ]
    },
    {
      "cell_type": "code",
      "metadata": {
        "id": "tFMlxso3nngs",
        "colab_type": "code",
        "colab": {
          "base_uri": "https://localhost:8080/",
          "height": 51
        },
        "outputId": "a413ff29-ba8a-4c7a-b71d-e3ae681c5b49"
      },
      "source": [
        "# Cosine Similarity.\n",
        "def CS(X,Y):\n",
        "  sum_X_Y=np.sum(X*Y)\n",
        "  sum_X_2=np.sum(np.power(X,2))\n",
        "  sum_Y_2=np.sum(np.power(Y,2))\n",
        "  num=sum_X_Y\n",
        "  den=sum_X_2*sum_Y_2\n",
        "  den=np.power(den,0.5)\n",
        "  C_S=num/den\n",
        "  C_D_S=(1/C_S)-1\n",
        "  print(\"The cosine similarity and dissimilarity between X & Y: \",\"(\",C_S,\",\",C_D_S,\")\")\n",
        "  return C_S,C_D_S\n",
        "CS=CS(X,Y)\n"
      ],
      "execution_count": 32,
      "outputs": [
        {
          "output_type": "stream",
          "text": [
            "The cosine similarity and dissimilarity between X & Y:  ( 0.9922564705712654 , 0.0078039596197103656 )\n"
          ],
          "name": "stdout"
        },
        {
          "output_type": "execute_result",
          "data": {
            "text/plain": [
              "tuple"
            ]
          },
          "metadata": {
            "tags": []
          },
          "execution_count": 32
        }
      ]
    },
    {
      "cell_type": "code",
      "metadata": {
        "id": "pB3yVE44CWDV",
        "colab_type": "code",
        "colab": {
          "base_uri": "https://localhost:8080/",
          "height": 51
        },
        "outputId": "cbc098b1-bb56-432f-f4d0-d73d11b0a3f9"
      },
      "source": [
        "# Overlap Similarity.\n",
        "def OS(X,Y):\n",
        "  sum_X_Y=np.sum(X*Y)\n",
        "  sum_X_2=np.sum(np.power(X,2))\n",
        "  sum_Y_2=np.sum(np.power(Y,2))\n",
        "  num=sum_X_Y\n",
        "  if float(sum_X_2)<float(sum_Y_2):\n",
        "    den=sum_X_2\n",
        "    O_S=num/den\n",
        "    O_DS=(1/O_S)-1\n",
        "    return O_S,O_DS\n",
        "  else:\n",
        "    den=sum_Y_2\n",
        "    O_S=num/den\n",
        "    O_DS=(1/O_S)-1\n",
        "    return O_S,O_DS\n",
        "OS=OS(X,Y)\n",
        "print(\"simmi\",\"dissi\")\n",
        "OS"
      ],
      "execution_count": 50,
      "outputs": [
        {
          "output_type": "stream",
          "text": [
            "simmi dissi\n"
          ],
          "name": "stdout"
        },
        {
          "output_type": "execute_result",
          "data": {
            "text/plain": [
              "(1.1269413362184815, -0.11264236401554018)"
            ]
          },
          "metadata": {
            "tags": []
          },
          "execution_count": 50
        }
      ]
    },
    {
      "cell_type": "code",
      "metadata": {
        "id": "ZJ_SvXVrdWSR",
        "colab_type": "code",
        "colab": {
          "base_uri": "https://localhost:8080/",
          "height": 51
        },
        "outputId": "a47f823e-94c0-4a56-9a7e-e596c0fc243e"
      },
      "source": [
        "# Dice similarity.\n",
        "def DS(X,Y):\n",
        "  sum_X_Y=np.sum(X*Y)\n",
        "  sum_X_2=np.sum(np.power(X,2))\n",
        "  sum_Y_2=np.sum(np.power(Y,2))\n",
        "  num=2*sum_X_Y\n",
        "  den=sum_X_2+sum_Y_2\n",
        "  D_S=num/den\n",
        "  D_DS=(1/D_S)-1\n",
        "  return D_S,D_DS\n",
        "DS=DS(X,Y)\n",
        "print(\"simmi\",\"dissi\")\n",
        "DS"
      ],
      "execution_count": 52,
      "outputs": [
        {
          "output_type": "stream",
          "text": [
            "simmi dissi\n"
          ],
          "name": "stdout"
        },
        {
          "output_type": "execute_result",
          "data": {
            "text/plain": [
              "(0.9659719368440287, 0.035226761625338554)"
            ]
          },
          "metadata": {
            "tags": []
          },
          "execution_count": 52
        }
      ]
    },
    {
      "cell_type": "code",
      "metadata": {
        "id": "vpkidk5gfQ_6",
        "colab_type": "code",
        "colab": {
          "base_uri": "https://localhost:8080/",
          "height": 68
        },
        "outputId": "2d3ae722-be2a-4f07-dac0-6f04116c8ca3"
      },
      "source": [
        "# Jaccard Similarity.\n",
        "def JS(X,Y):\n",
        "  sum_X_Y=np.sum(X*Y)\n",
        "  sum_X_2=np.sum(np.power(X,2))\n",
        "  sum_Y_2=np.sum(np.power(Y,2))\n",
        "  num=sum_X_Y\n",
        "  den=sum_X_2+sum_Y_2+sum_X_Y\n",
        "  J_S=num/den\n",
        "  J_DS=1-(J_S)\n",
        "  print(\"The Jaccard simlarity is \",J_S)\n",
        "  return J_S,J_DS\n",
        "JS=JS(X,Y)\n",
        "print(\"simmi\",\"dissi\")\n",
        "JS"
      ],
      "execution_count": 56,
      "outputs": [
        {
          "output_type": "stream",
          "text": [
            "The Jaccard simlarity is  0.3256847864420054\n",
            "simmi dissi\n"
          ],
          "name": "stdout"
        },
        {
          "output_type": "execute_result",
          "data": {
            "text/plain": [
              "(0.3256847864420054, 0.6743152135579946)"
            ]
          },
          "metadata": {
            "tags": []
          },
          "execution_count": 56
        }
      ]
    },
    {
      "cell_type": "code",
      "metadata": {
        "id": "Ac-9wzLY1jFH",
        "colab_type": "code",
        "colab": {
          "base_uri": "https://localhost:8080/",
          "height": 34
        },
        "outputId": "e701f934-4342-4439-c5be-abfbccd3fa8f"
      },
      "source": [
        "# Mahalanobis norm.\n",
        "def MN(X,Y,df_data):\n",
        "  mean=np.array(np.mean(df_data))\n",
        "  mean=np.transpose(mean)\n",
        "  X_minus_X_mean=X-mean\n",
        "  Y_minus_Y_mean=Y-mean\n",
        "  Cov_X=np.dot(np.transpose(X_minus_X_mean),X_minus_X_mean)\n",
        "  Cov_Y=np.dot(np.transpose(Y_minus_Y_mean),Y_minus_Y_mean)\n",
        "  A_x=Cov_X\n",
        "  A_x=A_x/((X).size-1)\n",
        "  A_x=np.linalg.inv(A_x)\n",
        "  A_y=Cov_Y\n",
        "  A_y=A_y/((X).size-1)\n",
        "  A_y=np.linalg.inv(A_y)\n",
        "  MN_X=np.power(np.linalg.multi_dot([X,A_x,np.transpose(X)]),0.5)\n",
        "  MN_Y=np.power(np.linalg.multi_dot([Y,A_x,np.transpose(Y)]),0.5)\n",
        "  return MN_X,MN_Y\n",
        "MN=MN(X,Y,df_data)\n",
        "MN"
      ],
      "execution_count": 57,
      "outputs": [
        {
          "output_type": "execute_result",
          "data": {
            "text/plain": [
              "(array([[5.4042403e+10]]), array([[7.32285979e+10]]))"
            ]
          },
          "metadata": {
            "tags": []
          },
          "execution_count": 57
        }
      ]
    },
    {
      "cell_type": "code",
      "metadata": {
        "id": "L84NquIgjCOM",
        "colab_type": "code",
        "colab": {
          "base_uri": "https://localhost:8080/",
          "height": 85
        },
        "outputId": "7b0fa444-c324-46f7-b032-a13569b108c7"
      },
      "source": [
        "# Lebesgue Minkowski Norm.\n",
        "def LMN(X,Y):\n",
        "  Z=abs(Y-X)\n",
        "  alpha=input(\"The value of alpha is (1,2,inf,-inf) : \")\n",
        "  if alpha==\"-inf\":\n",
        "    print(\"Lebesgue norm is (infimum)=\",np.amin(Z))\n",
        "    Z=np.amin(Z)\n",
        "    simmi=100/((Z)+100)\n",
        "    return simmi,Z\n",
        "  elif alpha==\"inf\":\n",
        "    print(\"Lebesgue norm is (supremum)=\",np.amax(Z))\n",
        "    Z=np.amax(Z)\n",
        "    simmi=100/((Z)+100)\n",
        "    return simmi,Z\n",
        "  elif int(alpha)==1:\n",
        "    Z=np.power(Z,1)\n",
        "    Z=np.sum(Z)\n",
        "    simmi=100/((Z)+100)\n",
        "    print(\"The Lebesgue norm is ( Manhattan)=\",Z)\n",
        "    return simmi,Z\n",
        "  elif int(alpha)==2:\n",
        "    Z=np.power(Z,2)\n",
        "    Z=np.sum(Z)\n",
        "    Z=np.power(Z,0.5)\n",
        "    simmi=100/((Z)+100)\n",
        "    print(\"The Lebesgue norm is ( Euclidean)=\",Z)\n",
        "    return simmi,Z\n",
        "  else:\n",
        "    print(\"Re-enter alpha within given range\")\n",
        "LMN=LMN(X,Y)\n",
        "print(\"simmi  ,  dissi\")\n",
        "LMN"
      ],
      "execution_count": 60,
      "outputs": [
        {
          "output_type": "stream",
          "text": [
            "The value of alpha is (1,2,inf,-inf) : 1\n",
            "The Lebesgue norm is ( Manhattan)= 2469.0\n",
            "simmi  ,  dissi\n"
          ],
          "name": "stdout"
        },
        {
          "output_type": "execute_result",
          "data": {
            "text/plain": [
              "(0.03892565200467108, 2469.0)"
            ]
          },
          "metadata": {
            "tags": []
          },
          "execution_count": 60
        }
      ]
    },
    {
      "cell_type": "code",
      "metadata": {
        "id": "a-qs4bJQLIzP",
        "colab_type": "code",
        "colab": {
          "base_uri": "https://localhost:8080/",
          "height": 51
        },
        "outputId": "931a46fd-16e6-43e9-bcda-596b65b0ab19"
      },
      "source": [
        "# Diagonal Norm.\n",
        "def DN(X,Y):\n",
        "  matrix=np.zeros([X.size,X.size])\n",
        "  random_diag=np.random.randint(0,2,X.size)\n",
        "  j=0\n",
        "  while j<=(X.size)-1:\n",
        "    matrix[j][j]=random_diag[j]\n",
        "    j=j+1\n",
        "  A=matrix\n",
        "  Z=Y-X\n",
        "  Z_transpose=np.transpose(Z)\n",
        "  Z_A_Z_transpose=np.linalg.multi_dot([Z,A,Z_transpose])\n",
        "  D_N=np.power(Z_A_Z_transpose,0.5)\n",
        "  simmi=100/((D_N)+100)\n",
        "  return simmi,D_N\n",
        "DN=DN(X,Y)\n",
        "print(\"simmi  ,  dissi\")\n",
        "DN\n",
        "  \n"
      ],
      "execution_count": 69,
      "outputs": [
        {
          "output_type": "stream",
          "text": [
            "simmi  ,  dissi\n"
          ],
          "name": "stdout"
        },
        {
          "output_type": "execute_result",
          "data": {
            "text/plain": [
              "(array([[0.26865153]]), array([[272.22940693]]))"
            ]
          },
          "metadata": {
            "tags": []
          },
          "execution_count": 69
        }
      ]
    },
    {
      "cell_type": "code",
      "metadata": {
        "id": "F7KKmSPNDwOD",
        "colab_type": "code",
        "colab": {}
      },
      "source": [
        ""
      ],
      "execution_count": null,
      "outputs": []
    }
  ]
}